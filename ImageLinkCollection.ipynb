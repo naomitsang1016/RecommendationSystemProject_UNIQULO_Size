{
 "cells": [
  {
   "cell_type": "code",
   "execution_count": null,
   "id": "792642b3",
   "metadata": {},
   "outputs": [],
   "source": [
    "# import libraries\n",
    "from bs4 import BeautifulSoup\n",
    "import requests\n",
    "import pandas as pd\n",
    "import re\n",
    "import numpy as np\n",
    "from selenium import webdriver\n",
    "from selenium.webdriver.common.keys import Keys\n",
    "from selenium.webdriver.support.ui import WebDriverWait\n",
    "\n",
    "from selenium.webdriver.support import expected_conditions as EC\n",
    "from selenium.webdriver.common.by import By\n",
    "from selenium.webdriver import ActionChains, Chrome\n",
    "import time"
   ]
  },
  {
   "cell_type": "code",
   "execution_count": null,
   "id": "184404b2",
   "metadata": {},
   "outputs": [],
   "source": [
    "#code=['E445167','E445186','E446807']\n",
    "item_list=pd.read_excel('item list.xlsx')\n",
    "df_img=pd.DataFrame()"
   ]
  },
  {
   "cell_type": "code",
   "execution_count": null,
   "id": "cb663417",
   "metadata": {},
   "outputs": [],
   "source": [
    "item_list.iloc[20:,:]"
   ]
  },
  {
   "cell_type": "code",
   "execution_count": null,
   "id": "15f8a050",
   "metadata": {},
   "outputs": [],
   "source": [
    "item_list[item_list['item code']==434154]"
   ]
  },
  {
   "cell_type": "code",
   "execution_count": null,
   "id": "d7d5702c",
   "metadata": {},
   "outputs": [],
   "source": [
    "URL_List=[]\n",
    "for item in item_list['item code']:\n",
    "    #get subpage data\n",
    "    if item_list[item_list['item code']==item]['url'].values[0] not in URL_List:\n",
    "        URL = \"{}?colorDisplayCode=30&sizeDisplayCode=004\".format(item_list[item_list['item code']==item]['url'].values[0].strip('/reviews'))\n",
    "    else:\n",
    "        URL = \"{}?colorDisplayCode=30&sizeDisplayCode=004\".format(item_list[item_list['item code']==item]['url'].values[1].strip('/reviews'))\n",
    "    \n",
    "\n",
    "    driver = webdriver.Chrome()\n",
    "\n",
    "    driver.get(URL) #replacing the requests.get step\n",
    "\n",
    "    #get the code list of available unit trusts\n",
    "    subhtml = driver.page_source #replacing the html.text\n",
    "\n",
    "    soup = BeautifulSoup(subhtml, \"html.parser\")\n",
    "    soup.prettify()\n",
    "    \n",
    "    all_imgs = soup.find_all('img')\n",
    "    #print image url\n",
    "    \n",
    "    dict_img={'item_code':[]}\n",
    "    dict_img['item_code'].append(item)\n",
    "    for i in range(4):\n",
    "        dict_img['img_{}'.format(i+1)]=[]\n",
    "        dict_img['img_{}'.format(i+1)].append(all_imgs[i]['src'])\n",
    "\n",
    "    df_img_new=pd.DataFrame(dict_img)\n",
    "    \n",
    "    df_img=pd.concat([df_img,df_img_new],axis=0)\n"
   ]
  },
  {
   "cell_type": "code",
   "execution_count": null,
   "id": "e385bdb5",
   "metadata": {},
   "outputs": [],
   "source": []
  },
  {
   "cell_type": "code",
   "execution_count": null,
   "id": "e82d6283",
   "metadata": {},
   "outputs": [],
   "source": [
    "df_img"
   ]
  },
  {
   "cell_type": "code",
   "execution_count": null,
   "id": "a588ae7b",
   "metadata": {},
   "outputs": [],
   "source": [
    "df_img.to_csv('Sample_img.csv', index=False)\n",
    "\n"
   ]
  }
 ],
 "metadata": {
  "kernelspec": {
   "display_name": "Python 3 (ipykernel)",
   "language": "python",
   "name": "python3"
  },
  "language_info": {
   "codemirror_mode": {
    "name": "ipython",
    "version": 3
   },
   "file_extension": ".py",
   "mimetype": "text/x-python",
   "name": "python",
   "nbconvert_exporter": "python",
   "pygments_lexer": "ipython3",
   "version": "3.9.7"
  }
 },
 "nbformat": 4,
 "nbformat_minor": 5
}
